{
 "cells": [
  {
   "cell_type": "markdown",
   "metadata": {},
   "source": [
    "# Cryptanalyse\n",
    "\n",
    "Votre mission, si vous l'acceptez, est de déchiffrer 4 textes de difficulté croissante en vous aidant d'un programme python que vous allez écrire.\n",
    "\n",
    "\n",
    "- Les fichiers ont été cryptés avec des méthodes données en cours.\n",
    "- Les fichiers chiffrés contiennent des textes en ASCII. Une fois déchiffrés ils vous donneront des informations.\n",
    "- Vous devez vous baser sur les fréquences d'apparition des lettres en français (et des paires de lettres) pour casser les codes. Faire une fonction de calcul pour vous aider.\n",
    "- Penser à réutliser le code du td de cryptographie comme base de travail.\n",
    "- Le code de votre programme doit être sur github et vous fournirez un lien vers votre projet github avec le code et le résultat du décodage\n",
    "en le déposant sur Moodle avant le mercredi 12 mai.\n",
    "- Une soutenance sera organisée le 17 mai.\n",
    "\n",
    "\n"
   ]
  },
  {
   "cell_type": "code",
   "execution_count": 61,
   "metadata": {},
   "outputs": [
    {
     "output_type": "stream",
     "name": "stdout",
     "text": [
      "Message chiffre: KD OQNBGZHM EHBGHDQ ZTQZ TM BNCD OZQ RTARSHSTSHNM ZKOGZADSHPTD: BGZPTD KDSSQD DRS QDLOKZBDD OZQ TMD ZTSQD. TSHKHRDQ KZ EQDPTDMBD CDR KDSSQDR ONTQ CDBNCDQ KD LDRRZFD\nMessage dechiffre: LE PROCHAIN FICHIER AURA UN CODE PAR SUBSTITUTION ALPHABETIQUE: CHAQUE LETTRE EST REMPLACEE PAR UNE AUTRE. UTILISER LA FREQUENCE DES LETTRES POUR DECODER LE MESSAGE\n"
     ]
    }
   ],
   "source": [
    "cle = 25 \n",
    "\n",
    "message_chiffre = \"KD OQNBGZHM EHBGHDQ ZTQZ TM BNCD OZQ RTARSHSTSHNM ZKOGZADSHPTD: BGZPTD KDSSQD DRS QDLOKZBDD OZQ TMD ZTSQD. TSHKHRDQ KZ EQDPTDMBD CDR KDSSQDR ONTQ CDBNCDQ KD LDRRZFD\"\n",
    "\n",
    "message_dechiffre = \"\"\n",
    "\n",
    "for c in message_chiffre:\n",
    "\n",
    "  \n",
    "    if c.isupper():\n",
    "\n",
    "        \n",
    "        c_unicode = ord(c)\n",
    "\n",
    "        c_index = ord(c) - ord(\"A\")\n",
    "\n",
    "     \n",
    "        new_index = (c_index - cle) % 26\n",
    "\n",
    "     \n",
    "        new_unicode = new_index + ord(\"A\")\n",
    "\n",
    "        new_character = chr(new_unicode)\n",
    "\n",
    "       \n",
    "        message_dechiffre = message_dechiffre + new_character\n",
    "\n",
    "    else:\n",
    "\n",
    "\n",
    "        message_dechiffre += c\n",
    "\n",
    "print(\"Message chiffre:\",message_chiffre)\n",
    "\n",
    "print(\"Message dechiffre:\",message_dechiffre)"
   ]
  },
  {
   "cell_type": "code",
   "execution_count": null,
   "metadata": {},
   "outputs": [],
   "source": [
    "def message2():\n",
    "\n",
    "    resultat.delete(0)\n",
    "    rep\"\"\n",
    "    texte=entree_texte.get()\n",
    "    for c in range(len(texte)):\n",
    "        if not ord(texte[c])>96 or not ord(texte[c])<123:\n",
    "            resultat.insert(i,texte[c])\n",
    "        else:\n",
    "            new_charachter= decrypt(texte[c])\n",
    "            resultat.insert(c,new_charachter)\n",
    "\n",
    "def decrypt(c):\n",
    "\n",
    "    res=\"\"\n",
    "    if c == 'a':\n",
    "        res += 'z'\n",
    "    elif c == \"c\":\n",
    "        res += 'd'\n",
    "    elif c == \"d\":\n",
    "        res += 'n'\n",
    "    elif c == \"f\":\n",
    "        res += 'n'\n",
    "    elif c == \"g\":\n",
    "        res += 'l'\n",
    "    elif c == \"i\":\n",
    "        res += 's'\n",
    "    elif c == \"k\":\n",
    "        res += 'i'\n",
    "    elif c == \"l\":\n",
    "        res += 'h'\n",
    "    elif c == \"m\":\n",
    "        res += 'g'\n",
    "    elif c == \"n\":\n",
    "        res += 'a'\n",
    "    elif c == \"o\":\n",
    "        res += 'r'\n",
    "    elif c == \"q\":\n",
    "        res += 'p'\n",
    "    elif c == \"s\":\n",
    "        res += 'o'\n",
    "    elif c == \"u\":\n",
    "        res += 't\n",
    "    elif c == \"v\":\n",
    "        res += 'c'\n",
    "    elif c == \"w\":\n",
    "        res += 'f'\n",
    "    elif c == \"x\":\n",
    "        res += 'e'\n",
    "    elif c == \"y\":\n",
    "        res += 'u'\n",
    "    return res \n",
    "\n",
    "\n",
    "\n"
   ]
  },
  {
   "cell_type": "code",
   "execution_count": null,
   "metadata": {},
   "outputs": [],
   "source": []
  }
 ],
 "metadata": {
  "kernelspec": {
   "name": "python395jvsc74a57bd0437c62445ea0c1f4034363dd9ccbf65347ec0ffea0bb26b800245b245869e001",
   "display_name": "Python 3.9.5 64-bit ('PythonSoftwareFoundation.Python.3.9_qbz5n2kfra8p0')"
  },
  "language_info": {
   "codemirror_mode": {
    "name": "ipython",
    "version": 3
   },
   "file_extension": ".py",
   "mimetype": "text/x-python",
   "name": "python",
   "nbconvert_exporter": "python",
   "pygments_lexer": "ipython3",
   "version": "3.9.5"
  },
  "metadata": {
   "interpreter": {
    "hash": "437c62445ea0c1f4034363dd9ccbf65347ec0ffea0bb26b800245b245869e001"
   }
  }
 },
 "nbformat": 4,
 "nbformat_minor": 2
}